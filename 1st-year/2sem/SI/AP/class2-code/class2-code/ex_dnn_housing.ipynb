{
 "cells": [
  {
   "cell_type": "markdown",
   "metadata": {},
   "source": [
    "### Example of DNNs in regression - Housing dataset"
   ]
  },
  {
   "cell_type": "code",
   "execution_count": 1,
   "metadata": {},
   "outputs": [
    {
     "name": "stdout",
     "output_type": "stream",
     "text": [
      "hello\n"
     ]
    }
   ],
   "source": [
    "print(\"hello\")"
   ]
  },
  {
   "cell_type": "markdown",
   "metadata": {},
   "source": [
    "Loading data"
   ]
  },
  {
   "cell_type": "code",
   "execution_count": 2,
   "metadata": {},
   "outputs": [
    {
     "name": "stdout",
     "output_type": "stream",
     "text": [
      "(404, 13)\n",
      "(102, 13)\n",
      "50.0 5.0\n"
     ]
    }
   ],
   "source": [
    "from tensorflow.keras.datasets import boston_housing\n",
    "(train_data, train_targets), (test_data, test_targets) = boston_housing.load_data()\n",
    "\n",
    "print(train_data.shape)\n",
    "print(test_data.shape)\n",
    "print(max(train_targets), min(train_targets))"
   ]
  },
  {
   "cell_type": "code",
   "execution_count": 10,
   "metadata": {},
   "outputs": [
    {
     "data": {
      "text/plain": [
       "array([[-0.27224633, -0.48361547, -0.43576161, ...,  1.14850044,\n",
       "         0.44807713,  0.8252202 ],\n",
       "       [-0.40342651,  2.99178419, -1.33391162, ..., -1.71818909,\n",
       "         0.43190599, -1.32920239],\n",
       "       [ 0.1249402 , -0.48361547,  1.0283258 , ...,  0.78447637,\n",
       "         0.22061726, -1.30850006],\n",
       "       ...,\n",
       "       [-0.40202987,  0.99079651, -0.7415148 , ..., -0.71712291,\n",
       "         0.07943894, -0.67776904],\n",
       "       [-0.17292018, -0.48361547,  1.24588095, ..., -1.71818909,\n",
       "        -0.98764362,  0.42083466],\n",
       "       [-0.40422614,  2.04394792, -1.20161456, ..., -1.30866202,\n",
       "         0.23317118, -1.15392266]])"
      ]
     },
     "execution_count": 10,
     "metadata": {},
     "output_type": "execute_result"
    }
   ],
   "source": [
    "train_data"
   ]
  },
  {
   "cell_type": "markdown",
   "metadata": {},
   "source": [
    "Standardizing data"
   ]
  },
  {
   "cell_type": "code",
   "execution_count": 3,
   "metadata": {},
   "outputs": [],
   "source": [
    "mean = train_data.mean(axis=0)\n",
    "train_data -= mean\n",
    "std = train_data.std(axis=0)\n",
    "train_data /= std\n",
    "test_data -= mean\n",
    "test_data /= std"
   ]
  },
  {
   "cell_type": "markdown",
   "metadata": {},
   "source": [
    "Building the model (deine function to enable more flexibility in tests)"
   ]
  },
  {
   "cell_type": "code",
   "execution_count": 4,
   "metadata": {},
   "outputs": [],
   "source": [
    "from tensorflow.keras import models\n",
    "from tensorflow.keras import layers\n",
    "\n",
    "def build_model(hidden = 64):\n",
    "    model = models.Sequential()\n",
    "    model.add(layers.Dense(hidden, activation='relu',\n",
    "                            input_shape=(train_data.shape[1],)))\n",
    "    model.add(layers.Dense(hidden, activation='relu'))\n",
    "    model.add(layers.Dense(1))\n",
    "    model.compile(optimizer='rmsprop', loss='mse', metrics=['mae'])\n",
    "    return model"
   ]
  },
  {
   "cell_type": "code",
   "execution_count": 5,
   "metadata": {},
   "outputs": [
    {
     "name": "stdout",
     "output_type": "stream",
     "text": [
      "Epoch 1/80\n",
      "26/26 [==============================] - 1s 2ms/step - loss: 518.8594 - mae: 20.8765\n",
      "Epoch 2/80\n",
      "26/26 [==============================] - 0s 2ms/step - loss: 360.8512 - mae: 16.8117\n",
      "Epoch 3/80\n",
      "26/26 [==============================] - 0s 2ms/step - loss: 193.2533 - mae: 11.2255\n",
      "Epoch 4/80\n",
      "26/26 [==============================] - 0s 2ms/step - loss: 96.3541 - mae: 7.4145\n",
      "Epoch 5/80\n",
      "26/26 [==============================] - 0s 2ms/step - loss: 55.4223 - mae: 5.6407\n",
      "Epoch 6/80\n",
      "26/26 [==============================] - 0s 2ms/step - loss: 37.4604 - mae: 4.5117\n",
      "Epoch 7/80\n",
      "26/26 [==============================] - 0s 2ms/step - loss: 28.8991 - mae: 3.8527\n",
      "Epoch 8/80\n",
      "26/26 [==============================] - 0s 2ms/step - loss: 24.2660 - mae: 3.4550\n",
      "Epoch 9/80\n",
      "26/26 [==============================] - 0s 2ms/step - loss: 21.3069 - mae: 3.2174\n",
      "Epoch 10/80\n",
      "26/26 [==============================] - 0s 2ms/step - loss: 19.1170 - mae: 3.0792\n",
      "Epoch 11/80\n",
      "26/26 [==============================] - 0s 2ms/step - loss: 17.0622 - mae: 2.8643\n",
      "Epoch 12/80\n",
      "26/26 [==============================] - 0s 2ms/step - loss: 16.2461 - mae: 2.8425\n",
      "Epoch 13/80\n",
      "26/26 [==============================] - 0s 2ms/step - loss: 14.9562 - mae: 2.7237\n",
      "Epoch 14/80\n",
      "26/26 [==============================] - 0s 2ms/step - loss: 13.9409 - mae: 2.6234\n",
      "Epoch 15/80\n",
      "26/26 [==============================] - 0s 1ms/step - loss: 12.9929 - mae: 2.5493\n",
      "Epoch 16/80\n",
      "26/26 [==============================] - 0s 1ms/step - loss: 12.2927 - mae: 2.4494\n",
      "Epoch 17/80\n",
      "26/26 [==============================] - 0s 2ms/step - loss: 12.2163 - mae: 2.4821\n",
      "Epoch 18/80\n",
      "26/26 [==============================] - 0s 1ms/step - loss: 11.4425 - mae: 2.3847\n",
      "Epoch 19/80\n",
      "26/26 [==============================] - 0s 1ms/step - loss: 11.1199 - mae: 2.3588\n",
      "Epoch 20/80\n",
      "26/26 [==============================] - 0s 2ms/step - loss: 10.8483 - mae: 2.2877\n",
      "Epoch 21/80\n",
      "26/26 [==============================] - 0s 1ms/step - loss: 10.3667 - mae: 2.2803\n",
      "Epoch 22/80\n",
      "26/26 [==============================] - 0s 1ms/step - loss: 10.2309 - mae: 2.2640\n",
      "Epoch 23/80\n",
      "26/26 [==============================] - 0s 1ms/step - loss: 9.9675 - mae: 2.2356\n",
      "Epoch 24/80\n",
      "26/26 [==============================] - 0s 1ms/step - loss: 9.8076 - mae: 2.1770\n",
      "Epoch 25/80\n",
      "26/26 [==============================] - 0s 2ms/step - loss: 9.6212 - mae: 2.1529\n",
      "Epoch 26/80\n",
      "26/26 [==============================] - 0s 2ms/step - loss: 9.2548 - mae: 2.1639\n",
      "Epoch 27/80\n",
      "26/26 [==============================] - 0s 2ms/step - loss: 9.3981 - mae: 2.1620\n",
      "Epoch 28/80\n",
      "26/26 [==============================] - 0s 2ms/step - loss: 9.0958 - mae: 2.1091\n",
      "Epoch 29/80\n",
      "26/26 [==============================] - 0s 2ms/step - loss: 8.9449 - mae: 2.1002\n",
      "Epoch 30/80\n",
      "26/26 [==============================] - 0s 2ms/step - loss: 8.8801 - mae: 2.0703\n",
      "Epoch 31/80\n",
      "26/26 [==============================] - 0s 2ms/step - loss: 8.6836 - mae: 2.0564\n",
      "Epoch 32/80\n",
      "26/26 [==============================] - 0s 2ms/step - loss: 8.5705 - mae: 2.0736\n",
      "Epoch 33/80\n",
      "26/26 [==============================] - 0s 2ms/step - loss: 8.5957 - mae: 2.0508\n",
      "Epoch 34/80\n",
      "26/26 [==============================] - 0s 2ms/step - loss: 8.3289 - mae: 2.0148\n",
      "Epoch 35/80\n",
      "26/26 [==============================] - 0s 2ms/step - loss: 8.4212 - mae: 2.0591\n",
      "Epoch 36/80\n",
      "26/26 [==============================] - 0s 3ms/step - loss: 8.1178 - mae: 2.0284\n",
      "Epoch 37/80\n",
      "26/26 [==============================] - 0s 1ms/step - loss: 8.1480 - mae: 2.0131\n",
      "Epoch 38/80\n",
      "26/26 [==============================] - 0s 1ms/step - loss: 8.1819 - mae: 1.9938\n",
      "Epoch 39/80\n",
      "26/26 [==============================] - 0s 2ms/step - loss: 8.0603 - mae: 1.9942\n",
      "Epoch 40/80\n",
      "26/26 [==============================] - 0s 1ms/step - loss: 7.8254 - mae: 1.9734\n",
      "Epoch 41/80\n",
      "26/26 [==============================] - 0s 1ms/step - loss: 7.7844 - mae: 1.9359\n",
      "Epoch 42/80\n",
      "26/26 [==============================] - 0s 1ms/step - loss: 7.8777 - mae: 1.9887\n",
      "Epoch 43/80\n",
      "26/26 [==============================] - 0s 1ms/step - loss: 7.8372 - mae: 1.9710\n",
      "Epoch 44/80\n",
      "26/26 [==============================] - 0s 1ms/step - loss: 7.6689 - mae: 1.9427\n",
      "Epoch 45/80\n",
      "26/26 [==============================] - 0s 1ms/step - loss: 7.6210 - mae: 1.9449\n",
      "Epoch 46/80\n",
      "26/26 [==============================] - 0s 2ms/step - loss: 7.5890 - mae: 1.9702\n",
      "Epoch 47/80\n",
      "26/26 [==============================] - 0s 2ms/step - loss: 7.4392 - mae: 1.8933\n",
      "Epoch 48/80\n",
      "26/26 [==============================] - 0s 2ms/step - loss: 7.4434 - mae: 1.9590\n",
      "Epoch 49/80\n",
      "26/26 [==============================] - 0s 2ms/step - loss: 7.4052 - mae: 1.9110\n",
      "Epoch 50/80\n",
      "26/26 [==============================] - 0s 2ms/step - loss: 7.2096 - mae: 1.8850\n",
      "Epoch 51/80\n",
      "26/26 [==============================] - 0s 2ms/step - loss: 7.1653 - mae: 1.8816\n",
      "Epoch 52/80\n",
      "26/26 [==============================] - 0s 2ms/step - loss: 7.2523 - mae: 1.8924\n",
      "Epoch 53/80\n",
      "26/26 [==============================] - 0s 2ms/step - loss: 7.1292 - mae: 1.8704\n",
      "Epoch 54/80\n",
      "26/26 [==============================] - 0s 2ms/step - loss: 6.9977 - mae: 1.8599\n",
      "Epoch 55/80\n",
      "26/26 [==============================] - 0s 2ms/step - loss: 7.0139 - mae: 1.8949\n",
      "Epoch 56/80\n",
      "26/26 [==============================] - 0s 2ms/step - loss: 7.0763 - mae: 1.8521\n",
      "Epoch 57/80\n",
      "26/26 [==============================] - 0s 2ms/step - loss: 6.9673 - mae: 1.8803\n",
      "Epoch 58/80\n",
      "26/26 [==============================] - 0s 2ms/step - loss: 6.9990 - mae: 1.8834\n",
      "Epoch 59/80\n",
      "26/26 [==============================] - 0s 1ms/step - loss: 6.8965 - mae: 1.8656\n",
      "Epoch 60/80\n",
      "26/26 [==============================] - 0s 1ms/step - loss: 6.5749 - mae: 1.8191\n",
      "Epoch 61/80\n",
      "26/26 [==============================] - 0s 1ms/step - loss: 6.6410 - mae: 1.8039\n",
      "Epoch 62/80\n",
      "26/26 [==============================] - 0s 1ms/step - loss: 6.5575 - mae: 1.8543\n",
      "Epoch 63/80\n",
      "26/26 [==============================] - 0s 1ms/step - loss: 6.7791 - mae: 1.8318\n",
      "Epoch 64/80\n",
      "26/26 [==============================] - 0s 2ms/step - loss: 6.6410 - mae: 1.8098\n",
      "Epoch 65/80\n",
      "26/26 [==============================] - 0s 2ms/step - loss: 6.5325 - mae: 1.8171\n",
      "Epoch 66/80\n",
      "26/26 [==============================] - 0s 1ms/step - loss: 6.4870 - mae: 1.7957\n",
      "Epoch 67/80\n",
      "26/26 [==============================] - 0s 1ms/step - loss: 6.6171 - mae: 1.8233\n",
      "Epoch 68/80\n",
      "26/26 [==============================] - 0s 2ms/step - loss: 6.5230 - mae: 1.7951\n",
      "Epoch 69/80\n",
      "26/26 [==============================] - 0s 2ms/step - loss: 6.1967 - mae: 1.7603\n",
      "Epoch 70/80\n",
      "26/26 [==============================] - 0s 2ms/step - loss: 6.2938 - mae: 1.7872\n",
      "Epoch 71/80\n",
      "26/26 [==============================] - 0s 2ms/step - loss: 6.4078 - mae: 1.8099\n",
      "Epoch 72/80\n",
      "26/26 [==============================] - 0s 2ms/step - loss: 6.1658 - mae: 1.7738\n",
      "Epoch 73/80\n",
      "26/26 [==============================] - 0s 2ms/step - loss: 6.3116 - mae: 1.7739\n",
      "Epoch 74/80\n",
      "26/26 [==============================] - 0s 2ms/step - loss: 6.2186 - mae: 1.7492\n",
      "Epoch 75/80\n",
      "26/26 [==============================] - 0s 2ms/step - loss: 6.1920 - mae: 1.8023\n",
      "Epoch 76/80\n",
      "26/26 [==============================] - 0s 2ms/step - loss: 6.1088 - mae: 1.7407\n",
      "Epoch 77/80\n",
      "26/26 [==============================] - 0s 2ms/step - loss: 6.0412 - mae: 1.7521\n",
      "Epoch 78/80\n",
      "26/26 [==============================] - 0s 2ms/step - loss: 5.7236 - mae: 1.7255\n",
      "Epoch 79/80\n",
      "26/26 [==============================] - 0s 1ms/step - loss: 6.0154 - mae: 1.7183\n",
      "Epoch 80/80\n",
      "26/26 [==============================] - 0s 1ms/step - loss: 6.0154 - mae: 1.7416\n",
      "4/4 [==============================] - 0s 2ms/step - loss: 14.5991 - mae: 2.5027\n",
      "14.59909439086914 2.5026893615722656\n"
     ]
    }
   ],
   "source": [
    "model = build_model()\n",
    "model.fit(train_data, train_targets, epochs=80, batch_size=16, verbose=1)\n",
    "\n",
    "test_mse_score, test_mae_score = model.evaluate(test_data, test_targets)\n",
    "print(test_mse_score, test_mae_score)"
   ]
  },
  {
   "cell_type": "code",
   "execution_count": 6,
   "metadata": {},
   "outputs": [
    {
     "name": "stdout",
     "output_type": "stream",
     "text": [
      "processing fold # 0\n",
      "processing fold # 1\n",
      "processing fold # 2\n",
      "processing fold # 3\n",
      "processing fold # 4\n",
      "[1.853084921836853, 1.615808129310608, 1.5772215127944946, 1.8083841800689697, 1.715542197227478]\n",
      "1.7140081882476808\n"
     ]
    }
   ],
   "source": [
    "import numpy as np\n",
    "k = 5\n",
    "num_val_samples = len(train_data) // k \n",
    "num_epochs = 100\n",
    "all_scores = []\n",
    "model = build_model()\n",
    "for i in range(k):\n",
    "    print('processing fold #', i)\n",
    "    val_data = train_data[i*num_val_samples: (i+1)*num_val_samples]\n",
    "    val_targets = train_targets[i*num_val_samples: (i+1)*num_val_samples]\n",
    "    partial_train_data = np.concatenate( [train_data[:i*num_val_samples], train_data[(i+1)*num_val_samples:]], axis=0)\n",
    "    partial_train_targets = np.concatenate( [train_targets[:i*num_val_samples], train_targets[(i+1)*num_val_samples:]], axis=0)\n",
    "    model.fit(partial_train_data, partial_train_targets, epochs=num_epochs, batch_size=1, verbose=0)\n",
    "    val_mse, val_mae = model.evaluate(val_data, val_targets, verbose=0)\n",
    "    all_scores.append(val_mae)\n",
    "print(all_scores)\n",
    "print(np.mean(all_scores))"
   ]
  },
  {
   "cell_type": "code",
   "execution_count": null,
   "metadata": {},
   "outputs": [],
   "source": []
  }
 ],
 "metadata": {
  "kernelspec": {
   "display_name": "Python 3 (ipykernel)",
   "language": "python",
   "name": "python3"
  },
  "language_info": {
   "codemirror_mode": {
    "name": "ipython",
    "version": 3
   },
   "file_extension": ".py",
   "mimetype": "text/x-python",
   "name": "python",
   "nbconvert_exporter": "python",
   "pygments_lexer": "ipython3",
   "version": "0.0.0"
  }
 },
 "nbformat": 4,
 "nbformat_minor": 4
}
