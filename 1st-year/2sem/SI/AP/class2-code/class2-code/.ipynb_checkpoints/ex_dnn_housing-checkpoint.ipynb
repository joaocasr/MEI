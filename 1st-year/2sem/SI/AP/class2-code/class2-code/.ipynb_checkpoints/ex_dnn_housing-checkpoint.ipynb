{
 "cells": [
  {
   "cell_type": "markdown",
   "metadata": {},
   "source": [
    "### Example of DNNs in regression - Housing dataset"
   ]
  },
  {
   "cell_type": "markdown",
   "metadata": {},
   "source": [
    "Loading data"
   ]
  },
  {
   "cell_type": "code",
   "execution_count": 1,
   "metadata": {},
   "outputs": [
    {
     "name": "stderr",
     "output_type": "stream",
     "text": [
      "2024-02-18 17:24:34.815133: I tensorflow/core/platform/cpu_feature_guard.cc:182] This TensorFlow binary is optimized to use available CPU instructions in performance-critical operations.\n",
      "To enable the following instructions: AVX2 FMA, in other operations, rebuild TensorFlow with the appropriate compiler flags.\n"
     ]
    },
    {
     "name": "stdout",
     "output_type": "stream",
     "text": [
      "(404, 13)\n",
      "(102, 13)\n",
      "50.0 5.0\n"
     ]
    }
   ],
   "source": [
    "from tensorflow.keras.datasets import boston_housing\n",
    "(train_data, train_targets), (test_data, test_targets) = boston_housing.load_data()\n",
    "\n",
    "print(train_data.shape)\n",
    "print(test_data.shape)\n",
    "print(max(train_targets), min(train_targets))"
   ]
  },
  {
   "cell_type": "markdown",
   "metadata": {},
   "source": [
    "Standardizing data"
   ]
  },
  {
   "cell_type": "code",
   "execution_count": 2,
   "metadata": {},
   "outputs": [],
   "source": [
    "mean = train_data.mean(axis=0)\n",
    "train_data -= mean\n",
    "std = train_data.std(axis=0)\n",
    "train_data /= std\n",
    "test_data -= mean\n",
    "test_data /= std"
   ]
  },
  {
   "cell_type": "markdown",
   "metadata": {},
   "source": [
    "Building the model (deine function to enable more flexibility in tests)"
   ]
  },
  {
   "cell_type": "code",
   "execution_count": 3,
   "metadata": {},
   "outputs": [],
   "source": [
    "from tensorflow.keras import models\n",
    "from tensorflow.keras import layers\n",
    "\n",
    "def build_model(hidden = 64):\n",
    "    model = models.Sequential()\n",
    "    model.add(layers.Dense(hidden, activation='relu',\n",
    "                            input_shape=(train_data.shape[1],)))\n",
    "    model.add(layers.Dense(hidden, activation='relu'))\n",
    "    model.add(layers.Dense(1))\n",
    "    model.compile(optimizer='rmsprop', loss='mse', metrics=['mae'])\n",
    "    return model"
   ]
  },
  {
   "cell_type": "code",
   "execution_count": 4,
   "metadata": {},
   "outputs": [
    {
     "name": "stdout",
     "output_type": "stream",
     "text": [
      "Epoch 1/80\n",
      "26/26 [==============================] - 0s 2ms/step - loss: 497.1186 - mae: 20.3071\n",
      "Epoch 2/80\n",
      "26/26 [==============================] - 0s 2ms/step - loss: 331.8379 - mae: 16.0099\n",
      "Epoch 3/80\n",
      "26/26 [==============================] - 0s 2ms/step - loss: 159.8194 - mae: 10.3615\n",
      "Epoch 4/80\n",
      "26/26 [==============================] - 0s 1ms/step - loss: 67.1636 - mae: 6.2577\n",
      "Epoch 5/80\n",
      "26/26 [==============================] - 0s 1ms/step - loss: 38.0809 - mae: 4.4879\n",
      "Epoch 6/80\n",
      "26/26 [==============================] - 0s 1ms/step - loss: 27.3497 - mae: 3.7718\n",
      "Epoch 7/80\n",
      "26/26 [==============================] - 0s 1ms/step - loss: 23.4415 - mae: 3.4336\n",
      "Epoch 8/80\n",
      "26/26 [==============================] - 0s 1ms/step - loss: 20.9572 - mae: 3.1724\n",
      "Epoch 9/80\n",
      "26/26 [==============================] - 0s 1ms/step - loss: 19.2044 - mae: 3.0392\n",
      "Epoch 10/80\n",
      "26/26 [==============================] - 0s 1ms/step - loss: 17.4409 - mae: 2.9044\n",
      "Epoch 11/80\n",
      "26/26 [==============================] - 0s 1ms/step - loss: 16.1450 - mae: 2.8076\n",
      "Epoch 12/80\n",
      "26/26 [==============================] - 0s 1ms/step - loss: 15.1678 - mae: 2.6786\n",
      "Epoch 13/80\n",
      "26/26 [==============================] - 0s 1ms/step - loss: 14.0836 - mae: 2.6537\n",
      "Epoch 14/80\n",
      "26/26 [==============================] - 0s 1ms/step - loss: 13.4730 - mae: 2.5510\n",
      "Epoch 15/80\n",
      "26/26 [==============================] - 0s 1ms/step - loss: 12.7790 - mae: 2.5512\n",
      "Epoch 16/80\n",
      "26/26 [==============================] - 0s 1ms/step - loss: 12.3924 - mae: 2.4933\n",
      "Epoch 17/80\n",
      "26/26 [==============================] - 0s 1ms/step - loss: 11.8984 - mae: 2.4356\n",
      "Epoch 18/80\n",
      "26/26 [==============================] - 0s 1ms/step - loss: 11.5008 - mae: 2.4236\n",
      "Epoch 19/80\n",
      "26/26 [==============================] - 0s 1ms/step - loss: 11.2259 - mae: 2.3900\n",
      "Epoch 20/80\n",
      "26/26 [==============================] - 0s 1ms/step - loss: 10.8510 - mae: 2.3361\n",
      "Epoch 21/80\n",
      "26/26 [==============================] - 0s 1ms/step - loss: 10.7401 - mae: 2.3315\n",
      "Epoch 22/80\n",
      "26/26 [==============================] - 0s 1ms/step - loss: 10.5764 - mae: 2.3251\n",
      "Epoch 23/80\n",
      "26/26 [==============================] - 0s 1ms/step - loss: 10.3341 - mae: 2.2895\n",
      "Epoch 24/80\n",
      "26/26 [==============================] - 0s 1ms/step - loss: 10.0379 - mae: 2.2641\n",
      "Epoch 25/80\n",
      "26/26 [==============================] - 0s 1ms/step - loss: 9.7471 - mae: 2.2332\n",
      "Epoch 26/80\n",
      "26/26 [==============================] - 0s 1ms/step - loss: 9.7944 - mae: 2.2095\n",
      "Epoch 27/80\n",
      "26/26 [==============================] - 0s 1ms/step - loss: 9.4903 - mae: 2.1730\n",
      "Epoch 28/80\n",
      "26/26 [==============================] - 0s 1ms/step - loss: 9.2658 - mae: 2.2086\n",
      "Epoch 29/80\n",
      "26/26 [==============================] - 0s 1ms/step - loss: 9.3013 - mae: 2.1934\n",
      "Epoch 30/80\n",
      "26/26 [==============================] - 0s 1ms/step - loss: 9.1430 - mae: 2.1828\n",
      "Epoch 31/80\n",
      "26/26 [==============================] - 0s 1ms/step - loss: 8.8690 - mae: 2.1190\n",
      "Epoch 32/80\n",
      "26/26 [==============================] - 0s 1ms/step - loss: 8.9598 - mae: 2.1294\n",
      "Epoch 33/80\n",
      "26/26 [==============================] - 0s 1ms/step - loss: 8.7664 - mae: 2.1215\n",
      "Epoch 34/80\n",
      "26/26 [==============================] - 0s 1ms/step - loss: 8.9362 - mae: 2.1372\n",
      "Epoch 35/80\n",
      "26/26 [==============================] - 0s 1ms/step - loss: 8.6383 - mae: 2.1159\n",
      "Epoch 36/80\n",
      "26/26 [==============================] - 0s 1ms/step - loss: 8.4934 - mae: 2.0752\n",
      "Epoch 37/80\n",
      "26/26 [==============================] - 0s 1ms/step - loss: 8.5214 - mae: 2.0705\n",
      "Epoch 38/80\n",
      "26/26 [==============================] - 0s 1ms/step - loss: 8.3636 - mae: 2.0694\n",
      "Epoch 39/80\n",
      "26/26 [==============================] - 0s 1ms/step - loss: 8.2573 - mae: 2.0217\n",
      "Epoch 40/80\n",
      "26/26 [==============================] - 0s 1ms/step - loss: 8.1945 - mae: 2.0499\n",
      "Epoch 41/80\n",
      "26/26 [==============================] - 0s 1ms/step - loss: 8.1068 - mae: 2.0202\n",
      "Epoch 42/80\n",
      "26/26 [==============================] - 0s 1ms/step - loss: 8.0151 - mae: 2.0241\n",
      "Epoch 43/80\n",
      "26/26 [==============================] - 0s 1ms/step - loss: 8.0474 - mae: 1.9842\n",
      "Epoch 44/80\n",
      "26/26 [==============================] - 0s 1ms/step - loss: 8.0238 - mae: 1.9994\n",
      "Epoch 45/80\n",
      "26/26 [==============================] - 0s 1ms/step - loss: 7.8881 - mae: 2.0092\n",
      "Epoch 46/80\n",
      "26/26 [==============================] - 0s 1ms/step - loss: 7.6935 - mae: 1.9724\n",
      "Epoch 47/80\n",
      "26/26 [==============================] - 0s 1ms/step - loss: 7.7074 - mae: 1.9675\n",
      "Epoch 48/80\n",
      "26/26 [==============================] - 0s 1ms/step - loss: 7.5282 - mae: 1.9370\n",
      "Epoch 49/80\n",
      "26/26 [==============================] - 0s 1ms/step - loss: 7.7013 - mae: 2.0026\n",
      "Epoch 50/80\n",
      "26/26 [==============================] - 0s 1ms/step - loss: 7.5664 - mae: 1.9444\n",
      "Epoch 51/80\n",
      "26/26 [==============================] - 0s 1ms/step - loss: 7.4650 - mae: 1.9379\n",
      "Epoch 52/80\n",
      "26/26 [==============================] - 0s 1ms/step - loss: 7.3923 - mae: 1.9309\n",
      "Epoch 53/80\n",
      "26/26 [==============================] - 0s 1ms/step - loss: 7.2015 - mae: 1.9072\n",
      "Epoch 54/80\n",
      "26/26 [==============================] - 0s 1ms/step - loss: 7.3081 - mae: 1.9448\n",
      "Epoch 55/80\n",
      "26/26 [==============================] - 0s 1ms/step - loss: 7.1107 - mae: 1.9058\n",
      "Epoch 56/80\n",
      "26/26 [==============================] - 0s 1ms/step - loss: 7.0976 - mae: 1.9233\n",
      "Epoch 57/80\n",
      "26/26 [==============================] - 0s 1ms/step - loss: 7.1571 - mae: 1.9048\n",
      "Epoch 58/80\n",
      "26/26 [==============================] - 0s 1ms/step - loss: 6.8259 - mae: 1.8525\n",
      "Epoch 59/80\n",
      "26/26 [==============================] - 0s 1ms/step - loss: 7.1155 - mae: 1.9065\n",
      "Epoch 60/80\n",
      "26/26 [==============================] - 0s 953us/step - loss: 6.7658 - mae: 1.8483\n",
      "Epoch 61/80\n",
      "26/26 [==============================] - 0s 956us/step - loss: 7.0155 - mae: 1.8827\n",
      "Epoch 62/80\n",
      "26/26 [==============================] - 0s 1ms/step - loss: 6.7797 - mae: 1.8690\n",
      "Epoch 63/80\n",
      "26/26 [==============================] - 0s 975us/step - loss: 6.6703 - mae: 1.8364\n",
      "Epoch 64/80\n",
      "26/26 [==============================] - 0s 998us/step - loss: 6.8069 - mae: 1.8750\n",
      "Epoch 65/80\n",
      "26/26 [==============================] - 0s 1ms/step - loss: 6.8031 - mae: 1.8619\n",
      "Epoch 66/80\n",
      "26/26 [==============================] - 0s 1ms/step - loss: 6.3207 - mae: 1.7796\n",
      "Epoch 67/80\n",
      "26/26 [==============================] - 0s 1ms/step - loss: 6.6074 - mae: 1.8322\n",
      "Epoch 68/80\n",
      "26/26 [==============================] - 0s 969us/step - loss: 6.3900 - mae: 1.8571\n",
      "Epoch 69/80\n",
      "26/26 [==============================] - 0s 1ms/step - loss: 6.3752 - mae: 1.7773\n",
      "Epoch 70/80\n",
      "26/26 [==============================] - 0s 1ms/step - loss: 6.3643 - mae: 1.8221\n",
      "Epoch 71/80\n",
      "26/26 [==============================] - 0s 994us/step - loss: 6.3238 - mae: 1.7762\n",
      "Epoch 72/80\n",
      "26/26 [==============================] - 0s 971us/step - loss: 6.3500 - mae: 1.7995\n",
      "Epoch 73/80\n",
      "26/26 [==============================] - 0s 1ms/step - loss: 6.1456 - mae: 1.7660\n",
      "Epoch 74/80\n",
      "26/26 [==============================] - 0s 2ms/step - loss: 6.0891 - mae: 1.7432\n",
      "Epoch 75/80\n",
      "26/26 [==============================] - 0s 1ms/step - loss: 6.3503 - mae: 1.8172\n",
      "Epoch 76/80\n",
      "26/26 [==============================] - 0s 997us/step - loss: 6.1919 - mae: 1.8016\n",
      "Epoch 77/80\n",
      "26/26 [==============================] - 0s 1ms/step - loss: 6.0249 - mae: 1.7507\n",
      "Epoch 78/80\n",
      "26/26 [==============================] - 0s 1ms/step - loss: 6.0892 - mae: 1.7469\n",
      "Epoch 79/80\n",
      "26/26 [==============================] - 0s 977us/step - loss: 5.9022 - mae: 1.7535\n",
      "Epoch 80/80\n",
      "26/26 [==============================] - 0s 1ms/step - loss: 5.8563 - mae: 1.7248\n",
      "4/4 [==============================] - 0s 2ms/step - loss: 17.8937 - mae: 2.6937\n",
      "17.893733978271484 2.6937224864959717\n"
     ]
    }
   ],
   "source": [
    "model = build_model()\n",
    "model.fit(train_data, train_targets, epochs=80, batch_size=16, verbose=1)\n",
    "\n",
    "test_mse_score, test_mae_score = model.evaluate(test_data, test_targets)\n",
    "print(test_mse_score, test_mae_score)"
   ]
  },
  {
   "cell_type": "code",
   "execution_count": 5,
   "metadata": {},
   "outputs": [
    {
     "name": "stdout",
     "output_type": "stream",
     "text": [
      "processing fold # 0\n",
      "processing fold # 1\n",
      "processing fold # 2\n",
      "processing fold # 3\n",
      "processing fold # 4\n",
      "[1.8737478256225586, 2.184696674346924, 1.540435552597046, 1.8725850582122803, 1.321887731552124]\n",
      "1.7586705684661865\n"
     ]
    }
   ],
   "source": [
    "import numpy as np\n",
    "k = 5\n",
    "num_val_samples = len(train_data) // k \n",
    "num_epochs = 100\n",
    "all_scores = []\n",
    "model = build_model()\n",
    "for i in range(k):\n",
    "    print('processing fold #', i)\n",
    "    val_data = train_data[i*num_val_samples: (i+1)*num_val_samples]\n",
    "    val_targets = train_targets[i*num_val_samples: (i+1)*num_val_samples]\n",
    "    partial_train_data = np.concatenate( [train_data[:i*num_val_samples], train_data[(i+1)*num_val_samples:]], axis=0)\n",
    "    partial_train_targets = np.concatenate( [train_targets[:i*num_val_samples], train_targets[(i+1)*num_val_samples:]], axis=0)\n",
    "    model.fit(partial_train_data, partial_train_targets, epochs=num_epochs, batch_size=1, verbose=0)\n",
    "    val_mse, val_mae = model.evaluate(val_data, val_targets, verbose=0)\n",
    "    all_scores.append(val_mae)\n",
    "print(all_scores)\n",
    "print(np.mean(all_scores))"
   ]
  },
  {
   "cell_type": "code",
   "execution_count": null,
   "metadata": {},
   "outputs": [],
   "source": []
  }
 ],
 "metadata": {
  "kernelspec": {
   "display_name": "Python 3 (ipykernel)",
   "language": "python",
   "name": "python3"
  },
  "language_info": {
   "codemirror_mode": {
    "name": "ipython",
    "version": 3
   },
   "file_extension": ".py",
   "mimetype": "text/x-python",
   "name": "python",
   "nbconvert_exporter": "python",
   "pygments_lexer": "ipython3",
   "version": "3.11.5"
  }
 },
 "nbformat": 4,
 "nbformat_minor": 4
}
