{
 "cells": [
  {
   "cell_type": "markdown",
   "metadata": {
    "tags": []
   },
   "source": [
    "## **MLP para classificação (binária) multiclasse de imagens**\n",
    "**Dataset Fashion-MNIST**\n",
    "- Dataset de imagens de peças de vestuário\n",
    "- Imagens de 28x28 pixeis\n",
    "- 70k imagens das quais 60k são para treino e 10k para teste\n",
    "- 10 classes e 785 atributos (o 1º é a classe a classificar o tipo de vestuário e as restantes são valores dos pixéis das imagens)\n",
    "- Classes: T-shirt/top, Trouser, Pullover, Dress, Coat, Sandal, Shirt, Sneaker, Bag e Ankle boot\n",
    "    \n",
    "Vamos utilizar uma rede neuronal para classificação do dígito em cada imagem de 28x28."
   ]
  },
  {
   "cell_type": "markdown",
   "metadata": {},
   "source": [
    "## Imports"
   ]
  },
  {
   "cell_type": "code",
   "execution_count": null,
   "metadata": {},
   "outputs": [],
   "source": [
    "import torch\n",
    "import pandas as pd\n",
    "import numpy as np\n",
    "from sklearn.preprocessing import LabelEncoder\n",
    "from sklearn.metrics import accuracy_score\n",
    "from sklearn.metrics import confusion_matrix, classification_report\n",
    "from torch.utils.data import Dataset\n",
    "from torch.utils.data import DataLoader\n",
    "from torch.utils.data import random_split\n",
    "import torch\n",
    "from torch import Tensor\n",
    "from torch.nn import Linear\n",
    "from torch.nn import ReLU\n",
    "from torch.nn import Softmax\n",
    "from torch.nn import Module\n",
    "from torch.optim import SGD, Adam\n",
    "from torch.nn import CrossEntropyLoss\n",
    "from torch.nn.init import kaiming_uniform_\n",
    "from torch.nn.init import xavier_uniform_\n",
    "    \n",
    "from torch.utils.data import DataLoader\n",
    "from torchvision.datasets import MNIST\n",
    "from torchvision.transforms import Compose\n",
    "from torchvision.transforms import ToTensor\n",
    "import matplotlib.pyplot as plt"
   ]
  },
  {
   "cell_type": "code",
   "execution_count": null,
   "metadata": {},
   "outputs": [],
   "source": [
    "PATH = './'\n",
    "PATH_TRAIN = './fashion-mnist_train.csv'\n",
    "PATH_TEST = './fashion-mnist_test.csv'\n",
    "\n",
    "device = torch.device(\"cpu\")\n",
    "\n",
    "BATCH_SIZE = 32"
   ]
  },
  {
   "cell_type": "markdown",
   "metadata": {
    "tags": []
   },
   "source": [
    "## 1. Preparar os Dados"
   ]
  },
  {
   "cell_type": "code",
   "execution_count": null,
   "metadata": {
    "tags": []
   },
   "outputs": [],
   "source": [
    "class CSVDataset(Dataset):\n",
    "\n",
    "    def __init__(self, path_train, path_test):\n",
    "        ...\n",
    "        \n",
    "    def __len_train__(self):\n",
    "        ...\n",
    "\n",
    "    def __len_test__(self):\n",
    "        ...\n",
    "    \n",
    "    def __getitem_train__(self, idx):\n",
    "        ...\n",
    "\n",
    "    def __getitem_test__(self, idx):\n",
    "        ...\n",
    "\n",
    "    def get_splits_flat(self):\n",
    "        ...\n",
    "    \n",
    "def prepare_data_flat(path_train, path_test):\n",
    "    ...\n",
    "\n",
    "train_dl, test_dl,  train_dl_all, test_dl_all = prepare_data_flat(PATH_TRAIN, PATH_TEST)"
   ]
  },
  {
   "cell_type": "markdown",
   "metadata": {
    "tags": []
   },
   "source": [
    "## 1.1 Visualizar os Dados"
   ]
  },
  {
   "cell_type": "code",
   "execution_count": null,
   "metadata": {},
   "outputs": [],
   "source": [
    "from IPython.display import display\n",
    "\n",
    "def visualize_data(path):\n",
    "    ...\n",
    "\n",
    "def visualize_dataset(train_dl, test_dl):\n",
    "    ...\n",
    "\n",
    "visualize_data(PATH_TRAIN)\n",
    "visualize_dataset(train_dl, test_dl)"
   ]
  },
  {
   "cell_type": "code",
   "execution_count": null,
   "metadata": {},
   "outputs": [],
   "source": [
    "def visualize_mnist_images_flat(dl):\n",
    "    ...\n",
    "\n",
    "visualize_mnist_images_flat(train_dl)"
   ]
  },
  {
   "cell_type": "markdown",
   "metadata": {
    "tags": []
   },
   "source": [
    "## 1.2 Verificar balanceamento do dataset"
   ]
  },
  {
   "cell_type": "code",
   "execution_count": null,
   "metadata": {},
   "outputs": [],
   "source": [
    "...\n",
    "\n",
    "def output_label(label):\n",
    "    output_mapping = { 0: \"T-shirt/Top\", 1: \"Trouser\", 2: \"Pullover\",\n",
    "                       3: \"Dress\",       4: \"Coat\",    5: \"Sandal\", \n",
    "                       6: \"Shirt\",       7: \"Sneaker\", 8: \"Bag\", \n",
    "                       9: \"Ankle Boot\" }\n",
    "    output_mapping2 = { 0: \"0\", 1: \"1\", 2: \"2\", 3: \"3\", 4: \"4\", \n",
    "                       5: \"5\", 6: \"6\", 7: \"7\", 8: \"8\", 9: \"9\"}\n",
    "    input = (label.item() if type(label) == torch.Tensor else label) #because it can be a pytorch tensor\n",
    "    return output_mapping[input]\n",
    "\n",
    "def visualize_holdout_balance(dl):\n",
    "    _, labels = next(iter(dl)) \n",
    "    output_mapping = { 0: \"T-shirt/Top\", 1: \"Trouser\", 2: \"Pullover\",\n",
    "                       3: \"Dress\",       4: \"Coat\",    5: \"Sandal\", \n",
    "                       6: \"Shirt\",       7: \"Sneaker\", 8: \"Bag\", \n",
    "                       9: \"Ankle Boot\" }\n",
    "    sns.set_style('whitegrid')\n",
    "    print(\"casos:\",len(labels))\n",
    "    x, y = np.unique(output_mapping[labels], return_counts=True)\n",
    "    x=[str(n) for n in x]\n",
    "    print(x)\n",
    "    print(y)\n",
    "    print(np.sum(y))\n",
    "    grafico=sns.barplot(x, y)\n",
    "    grafico.set_title('Data balance ')\n",
    "    plt.xticks(rotation=70)\n",
    "    plt.tight_layout()\n",
    "    plt.show() \n",
    "\n",
    "print(\"-----casos_treino------\")   \n",
    "...\n",
    "print(\"-----casos_teste------\") \n",
    "..."
   ]
  },
  {
   "cell_type": "markdown",
   "metadata": {
    "tags": []
   },
   "source": [
    "## 2. Definir o Modelo"
   ]
  },
  {
   "cell_type": "code",
   "execution_count": null,
   "metadata": {},
   "outputs": [],
   "source": [
    "from torchinfo import summary\n",
    "\n",
    "class MLP(Module):\n",
    "    def __init__(self, n_inputs):\n",
    "        ...\n",
    "        \n",
    "    def forward(self, X):\n",
    "        ...\n",
    "    \n",
    "model = MLP(784)\n",
    "print(summary(model, input_size=(BATCH_SIZE, 784), verbose=0))\n",
    "model.to(device)"
   ]
  },
  {
   "cell_type": "markdown",
   "metadata": {
    "tags": []
   },
   "source": [
    "## 3. Treinar o Modelo"
   ]
  },
  {
   "cell_type": "code",
   "execution_count": null,
   "metadata": {
    "tags": []
   },
   "outputs": [],
   "source": [
    "from livelossplot import PlotLosses\n",
    "\n",
    "EPOCHS = 100\n",
    "LEARNING_RATE = 0.001\n",
    "\n",
    "def train_model(train_dl, model):\n",
    "    ...\n",
    "\n",
    "train_model(train_dl_all, model)"
   ]
  },
  {
   "cell_type": "markdown",
   "metadata": {
    "tags": []
   },
   "source": [
    "## 4. Avaliar o Modelo"
   ]
  },
  {
   "cell_type": "code",
   "execution_count": null,
   "metadata": {
    "tags": []
   },
   "outputs": [],
   "source": [
    "def evaluate_model(test_dl, model):\n",
    "    ...\n",
    "\n",
    "def display_confusion_matrix(cm,list_classes):\n",
    "    ...\n",
    "    \n",
    "actual_values, predictions = evaluate_model(test_dl, model)\n",
    "\n",
    "acertou=0\n",
    "falhou = 0\n",
    "for r,p in zip(actual_values, predictions):\n",
    "    if r==p: acertou+=1  \n",
    "    else: falhou+=1\n",
    "\n",
    "acc = accuracy_score(actual_values, predictions)\n",
    "print(f'Accuracy: {acc:0.3f}\\n')\n",
    "print(f'acertou:{acertou} falhou:{falhou}')\n",
    "\n",
    "print(classification_report(actual_values, predictions))\n",
    "cr =classification_report(actual_values, predictions, output_dict=True)\n",
    "list_classes=list(cr.keys())[0:10]\n",
    "cm = confusion_matrix(actual_values, predictions)\n",
    "\n",
    "print (cm)\n",
    "display_confusion_matrix(cm,list_classes)"
   ]
  },
  {
   "cell_type": "markdown",
   "metadata": {
    "tags": []
   },
   "source": [
    "## 5. Usar o Modelo"
   ]
  },
  {
   "cell_type": "code",
   "execution_count": null,
   "metadata": {},
   "outputs": [],
   "source": [
    "def make_prediction(model, img_list, idx): \n",
    "    ...\n",
    "\n",
    "_, (inputs, targets) = next(enumerate(test_dl))\n",
    "make_prediction(model,inputs, 10)"
   ]
  }
 ],
 "metadata": {
  "kernelspec": {
   "display_name": "Python 3",
   "language": "python",
   "name": "python3"
  },
  "language_info": {
   "codemirror_mode": {
    "name": "ipython",
    "version": 3
   },
   "file_extension": ".py",
   "mimetype": "text/x-python",
   "name": "python",
   "nbconvert_exporter": "python",
   "pygments_lexer": "ipython3",
   "version": "3.7.7"
  }
 },
 "nbformat": 4,
 "nbformat_minor": 4
}
