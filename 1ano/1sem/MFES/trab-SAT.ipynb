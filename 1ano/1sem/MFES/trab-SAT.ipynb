{
 "cells": [
  {
   "cell_type": "code",
   "execution_count": 9,
   "metadata": {},
   "outputs": [],
   "source": [
    "# Nome: João Paulo Peixoto Castro\n",
    "# Número: PG53929\n",
    "# Curso: Mestrado em Engenharia Informática"
   ]
  },
  {
   "cell_type": "code",
   "execution_count": 4,
   "metadata": {},
   "outputs": [
    {
     "name": "stdout",
     "output_type": "stream",
     "text": [
      "O conjunto de fórmulas é consistente sendo que podemos compravá-lo pela seguinte atribuição de cores a cada um dos azulejos presente abaixo.\n",
      "Um possível conjunto de atribuições que obedecem às regras pré-definidas são as seguintes.:\n",
      "\n",
      "O azulejo 1 fica pintado de preto\n",
      "O azulejo 2 fica pintado de azul\n",
      "O azulejo 3 fica pintado de verde\n",
      "O azulejo 4 fica pintado de azul\n",
      "O azulejo 5 fica pintado de cinzento\n",
      "O azulejo 6 fica pintado de azul\n",
      "O azulejo 7 fica pintado de verde\n",
      "O azulejo 8 fica pintado de azul\n",
      "O azulejo 9 fica pintado de preto\n"
     ]
    }
   ],
   "source": [
    "from z3 import *\n",
    "\n",
    "x={}\n",
    "cores = [\"azul\",\"verde\",\"cinzento\",\"preto\"]\n",
    "for a in range(1,10):\n",
    "    x[a]={}\n",
    "    for c in cores:\n",
    "        x[a][c] = Bool(\"%d,%s\" % (a,c))\n",
    "\n",
    "s = Solver()\n",
    "\n",
    "# Cada azulejo tem uma ´unica cor = cada azulejo tem pelo menos e no maximo uma cor\n",
    "#cada azulejo pelo menos uma cor\n",
    "for a in range(1,10):\n",
    "    s.add(Or([x[a][cor] for cor in cores]))\n",
    "\n",
    "size = len(cores)\n",
    "combs={}\n",
    "for i in range(0,size):\n",
    "    u = cores.pop(0)\n",
    "    combs[u]=[]\n",
    "    for j in range(0,len(cores)):\n",
    "        combs[u].append(cores[j])\n",
    "    cores.append(u)\n",
    "\n",
    "#cada azulejo no maximo uma cor\n",
    "for a in range(1,10):\n",
    "    for c1 in combs.keys():\n",
    "        s.add(Implies(x[a][c1],And([Not(x[a][c2]) for c2 in combs[c1]])))\n",
    "\n",
    "# Os azulejos das extremidades tˆem que ter a mesma cor\n",
    "s.add(Or([And(x[1][cor],x[9][cor]) for cor in cores]))\n",
    "\n",
    "# Todas as cores tˆem que ser usadas.\n",
    "s.add(And([Or([x[a][c] for a in range(1,10)]) for c in cores]))\n",
    "\n",
    "# O azulejo do meio s´o pode ser pintado de cinzento ou preto.\n",
    "s.add(Or(x[5][\"cinzento\"],x[5][\"preto\"]))\n",
    "\n",
    "# O pen´ultimo azulejo da sequˆencia tem que ser preto, excepto se o ´ultimo estiver pintado de preto.\n",
    "# not x[9][preto] -> x[8][preto]\n",
    "s.add(Implies(Not(x[9][\"preto\"]),x[8][\"preto\"]))\n",
    "\n",
    "# Azulejos seguidos n˜ao podem ser pintados da mesma cor.\n",
    "for c in cores:\n",
    "    for i in range(1,9):\n",
    "        s.add(Implies(x[i][c],Not(x[i+1][c])))\n",
    "\n",
    "# Caso o primeiro azulejo seja verde e o terceiro n˜ao seja preto, o segundo ter´a que ser cinzento ou preto.\n",
    "s.add(Implies(And(x[1][\"verde\"],Not(x[3][\"preto\"])),Or(x[2][\"cinzento\"],x[2][\"preto\"])))\n",
    "\n",
    "# Os azulejos na terceira e na s´etima posi¸c˜ao s´o podem ser pintados de azul ou de verde.\n",
    "s.add(Or(x[3][\"azul\"],x[3][\"verde\"]))\n",
    "s.add(Or(x[7][\"azul\"],x[3][\"verde\"]))\n",
    "\n",
    "\n",
    "s.push()\n",
    "# 1. Codifique o problema num solver e comprove que o conjunto de f´ormulas ´e consistente.\n",
    "if s.check() == sat:\n",
    "    m = s.model()\n",
    "    print(\"O conjunto de fórmulas é consistente sendo que podemos compravá-lo pela seguinte atribuição de cores a cada um dos azulejos presente abaixo.\\nUm possível conjunto de atribuições que obedecem às regras pré-definidas são as seguintes.:\\n\")\n",
    "    for a in range(1,10):\n",
    "        for c in cores:\n",
    "            if is_true(m[x[a][c]]):\n",
    "                print(\"O azulejo %d fica pintado de %s\" % (a,c))\n",
    "else:\n",
    "  print(\"Não existe solução.\")\n"
   ]
  },
  {
   "cell_type": "code",
   "execution_count": 5,
   "metadata": {},
   "outputs": [
    {
     "name": "stdout",
     "output_type": "stream",
     "text": [
      "---------------------------------------\n",
      "A afirmação 2.(a) NÃO é verdadeira.\n",
      "A afirmação 2.(b) é verdadeira.\n",
      "A afirmação 2.(c) é verdadeira.\n",
      "---------------------------------------\n"
     ]
    }
   ],
   "source": [
    "# 2. Com a ajuda do solver, pronuncie-se quanto `a veracidade das seguintes afirma¸c˜oes:\n",
    "\n",
    "# Para verificar a veracidade de cada uma das afirmações temos que proceder à negação da mesma e adicionar essa restrição ao conjunto de regras anteriores\n",
    "# se o resultado for UNSAT quer dizer que é verdade\n",
    "\n",
    "#(a) Se o primeiro azulejo for preto, o pen´ultimo azulejo tem que ser azul\n",
    "print(\"---------------------------------------\")\n",
    "s.add(Not(Implies(x[1][\"preto\"],x[8][\"azul\"])))\n",
    "s.push()\n",
    "if s.check() == sat:\n",
    "    print(\"A afirmação 2.(a) NÃO é verdadeira.\")\n",
    "else:\n",
    "  print(\"A afirmação 2.(a) é verdadeira.\")\n",
    "\n",
    "s.pop()\n",
    "\n",
    "#(b) Algum dos dois ´ultimos azulejos tem que ser preto.\n",
    "s.add(Not(Or(x[8][\"preto\"],x[9][\"preto\"])))\n",
    "s.push()\n",
    "if s.check() == sat:\n",
    "    print(\"A afirmação 2.(b) NÃO é verdadeira.\")\n",
    "else:\n",
    "  print(\"A afirmação 2.(b) é verdadeira.\")\n",
    "\n",
    "s.pop()\n",
    "\n",
    "# (c) Algum dos trˆes primeiros azulejos poder´a ser azul.\n",
    "# nenhum dos tres primeiros azulejos poderá ser azul\n",
    "s.add(And(Not(x[1][\"azul\"]),Not(x[2][\"azul\"]),Not(x[3][\"azul\"])))\n",
    "s.push()\n",
    "\n",
    "if(s.check()==sat):\n",
    "    print(\"A afirmação 2.(c) NÃO é verdadeira.\")\n",
    "else:\n",
    "    print(\"A afirmação 2.(c) é verdadeira.\")\n",
    "print(\"---------------------------------------\")\n",
    "\n",
    "s.pop()"
   ]
  },
  {
   "cell_type": "code",
   "execution_count": 12,
   "metadata": {},
   "outputs": [
    {
     "name": "stdout",
     "output_type": "stream",
     "text": [
      "Existem 360 soluções possíveis\n",
      "---------------------------------------\n"
     ]
    }
   ],
   "source": [
    "num=0\n",
    "# 3 . Acrescente c´odigo ao programa de modo a saber todas as colora¸c˜oes que s˜ao poss´ıveis fazer aos azulejos. Quantas s˜ao?\n",
    "s.pop()\n",
    "while(s.check()==sat):\n",
    "    m = s.model()\n",
    "    num+=1\n",
    "    aux=[]\n",
    "    for v in m:\n",
    "        aux.append(v() != m[v])\n",
    "    s.add(Or([m for m in aux]))\n",
    "\n",
    "print(\"Existem %d soluções possíveis\" % num)\n",
    "print(\"---------------------------------------\")"
   ]
  }
 ],
 "metadata": {
  "kernelspec": {
   "display_name": "Python 3",
   "language": "python",
   "name": "python3"
  },
  "language_info": {
   "codemirror_mode": {
    "name": "ipython",
    "version": 3
   },
   "file_extension": ".py",
   "mimetype": "text/x-python",
   "name": "python",
   "nbconvert_exporter": "python",
   "pygments_lexer": "ipython3",
   "version": "3.11.5"
  },
  "orig_nbformat": 4
 },
 "nbformat": 4,
 "nbformat_minor": 2
}
